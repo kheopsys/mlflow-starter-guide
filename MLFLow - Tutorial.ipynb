{
 "cells": [
  {
   "cell_type": "markdown",
   "id": "e58f3389",
   "metadata": {},
   "source": [
    "#### Load required modules"
   ]
  },
  {
   "cell_type": "code",
   "execution_count": 21,
   "id": "54489226",
   "metadata": {},
   "outputs": [],
   "source": [
    "import mlflow.pyfunc\n",
    "import pandas as pd\n",
    "\n",
    "from sklearn.datasets import load_iris\n",
    "from sklearn.ensemble import RandomForestClassifier\n",
    "from sklearn.metrics import accuracy_score"
   ]
  },
  {
   "cell_type": "markdown",
   "id": "5c52a44f",
   "metadata": {},
   "source": [
    "#### Load dataset"
   ]
  },
  {
   "cell_type": "code",
   "execution_count": 22,
   "id": "cc406edd",
   "metadata": {},
   "outputs": [
    {
     "data": {
      "text/html": [
       "<div>\n",
       "<style scoped>\n",
       "    .dataframe tbody tr th:only-of-type {\n",
       "        vertical-align: middle;\n",
       "    }\n",
       "\n",
       "    .dataframe tbody tr th {\n",
       "        vertical-align: top;\n",
       "    }\n",
       "\n",
       "    .dataframe thead th {\n",
       "        text-align: right;\n",
       "    }\n",
       "</style>\n",
       "<table border=\"1\" class=\"dataframe\">\n",
       "  <thead>\n",
       "    <tr style=\"text-align: right;\">\n",
       "      <th></th>\n",
       "      <th>sepal length (cm)</th>\n",
       "      <th>sepal width (cm)</th>\n",
       "      <th>petal length (cm)</th>\n",
       "      <th>petal width (cm)</th>\n",
       "    </tr>\n",
       "  </thead>\n",
       "  <tbody>\n",
       "    <tr>\n",
       "      <th>0</th>\n",
       "      <td>5.1</td>\n",
       "      <td>3.5</td>\n",
       "      <td>1.4</td>\n",
       "      <td>0.2</td>\n",
       "    </tr>\n",
       "    <tr>\n",
       "      <th>1</th>\n",
       "      <td>4.9</td>\n",
       "      <td>3.0</td>\n",
       "      <td>1.4</td>\n",
       "      <td>0.2</td>\n",
       "    </tr>\n",
       "    <tr>\n",
       "      <th>2</th>\n",
       "      <td>4.7</td>\n",
       "      <td>3.2</td>\n",
       "      <td>1.3</td>\n",
       "      <td>0.2</td>\n",
       "    </tr>\n",
       "  </tbody>\n",
       "</table>\n",
       "</div>"
      ],
      "text/plain": [
       "   sepal length (cm)  sepal width (cm)  petal length (cm)  petal width (cm)\n",
       "0                5.1               3.5                1.4               0.2\n",
       "1                4.9               3.0                1.4               0.2\n",
       "2                4.7               3.2                1.3               0.2"
      ]
     },
     "execution_count": 22,
     "metadata": {},
     "output_type": "execute_result"
    }
   ],
   "source": [
    "iris = load_iris()\n",
    "iris_train = pd.DataFrame(iris.data, columns=iris.feature_names)\n",
    "iris_train.head(3)"
   ]
  },
  {
   "cell_type": "markdown",
   "id": "ad5dba9d",
   "metadata": {},
   "source": [
    "#### Train and evaluate a random forest classifier model"
   ]
  },
  {
   "cell_type": "code",
   "execution_count": 23,
   "id": "346bddd1",
   "metadata": {},
   "outputs": [
    {
     "name": "stdout",
     "output_type": "stream",
     "text": [
      "Accuracy: 100.00%\n"
     ]
    }
   ],
   "source": [
    "# train\n",
    "clf = RandomForestClassifier(max_depth=7, random_state=0)\n",
    "clf.fit(iris_train, iris.target)\n",
    "\n",
    "# evaluate\n",
    "iris_pred = clf.predict(iris_train)\n",
    "accuracy = accuracy_score(iris.target, iris_pred)\n",
    "print(\"Accuracy: {:.2f}%\".format(accuracy * 100))"
   ]
  },
  {
   "cell_type": "markdown",
   "id": "4388ab9b",
   "metadata": {},
   "source": [
    "#### Get or create MLFlow experiment and log model to model registery"
   ]
  },
  {
   "cell_type": "code",
   "execution_count": 24,
   "id": "31003354",
   "metadata": {},
   "outputs": [],
   "source": [
    "experiment_name = \"iris-experiment-v2\"\n",
    "\n",
    "try:\n",
    "    mlflow.set_experiment(experiment_name)\n",
    "except:\n",
    "    mlflow.create_experiment(experiment_name)\n",
    "\n",
    "with mlflow.start_run():\n",
    "    mlflow.log_param(\"max_depth\", 7)\n",
    "    mlflow.log_metric(\"accuracy\", accuracy)\n",
    "    mlflow.sklearn.log_model(clf, \"iris_rf\")"
   ]
  },
  {
   "cell_type": "markdown",
   "id": "f30390df",
   "metadata": {},
   "source": [
    "#### Get the experiment"
   ]
  },
  {
   "cell_type": "code",
   "execution_count": 25,
   "id": "084aa031",
   "metadata": {},
   "outputs": [
    {
     "name": "stdout",
     "output_type": "stream",
     "text": [
      "Experiment ID: 949272421715945670 Experiment NAME: iris-experiment-v2\n"
     ]
    }
   ],
   "source": [
    "experiment = mlflow.get_experiment_by_name(experiment_name)\n",
    "experiment_id = experiment.experiment_id\n",
    "\n",
    "print(\"Experiment ID:\", experiment_id, \"Experiment NAME:\", experiment_name)"
   ]
  },
  {
   "cell_type": "markdown",
   "id": "add336bf",
   "metadata": {},
   "source": [
    "#### Search for runs that match a set of criteria"
   ]
  },
  {
   "cell_type": "code",
   "execution_count": 26,
   "id": "79884067",
   "metadata": {},
   "outputs": [
    {
     "name": "stdout",
     "output_type": "stream",
     "text": [
      "e9f75726ca594ab4b8260b66ff738b5e 2023-04-06 21:54:08.038000+00:00 FINISHED\n",
      "54ae8336e43049a1a537657ad544894b 2023-04-06 21:38:50.652000+00:00 FINISHED\n"
     ]
    }
   ],
   "source": [
    "runs = mlflow.search_runs(experiment_ids=[experiment_id])\n",
    "\n",
    "for index, run in runs.iterrows():\n",
    "    print(run['run_id'], run['start_time'], run['status'])"
   ]
  },
  {
   "cell_type": "markdown",
   "id": "74a5d0dd",
   "metadata": {},
   "source": [
    "#### Get model to make predictions"
   ]
  },
  {
   "cell_type": "code",
   "execution_count": 27,
   "id": "da728ff5",
   "metadata": {},
   "outputs": [
    {
     "name": "stdout",
     "output_type": "stream",
     "text": [
      "[0 0]\n"
     ]
    }
   ],
   "source": [
    "# get model\n",
    "model_uri = r\"mlruns/{}/{}/artifacts/iris_rf\".format(experiment_id, runs['run_id'][0])\n",
    "model = mlflow.pyfunc.load_model(model_uri)\n",
    "\n",
    "# make predictions using the loaded model\n",
    "predictions = model.predict(iris_train[1:3])\n",
    "\n",
    "# print the predictions\n",
    "print(predictions)"
   ]
  },
  {
   "cell_type": "markdown",
   "id": "5fd9321d",
   "metadata": {},
   "source": [
    "#### Use Model Registry to manage the lifecycle of models"
   ]
  },
  {
   "cell_type": "code",
   "execution_count": 28,
   "id": "021c42b0",
   "metadata": {},
   "outputs": [
    {
     "name": "stderr",
     "output_type": "stream",
     "text": [
      "Registered model 'iris_rf_model' already exists. Creating a new version of this model...\n",
      "2023/04/06 23:54:17 INFO mlflow.tracking._model_registry.client: Waiting up to 300 seconds for model version to finish creation.                     Model name: iris_rf_model, version 3\n",
      "Created version '3' of model 'iris_rf_model'.\n"
     ]
    },
    {
     "data": {
      "text/plain": [
       "mlflow.pyfunc.loaded_model:\n",
       "  artifact_path: iris_rf\n",
       "  flavor: mlflow.sklearn\n",
       "  run_id: e9f75726ca594ab4b8260b66ff738b5e"
      ]
     },
     "execution_count": 28,
     "metadata": {},
     "output_type": "execute_result"
    }
   ],
   "source": [
    "# register a new model version\n",
    "experiment = mlflow.get_experiment_by_name(experiment_name)\n",
    "experiment_id = experiment.experiment_id\n",
    "runs = mlflow.search_runs(experiment_ids=[experiment_id])\n",
    "\n",
    "model_uri = \"runs:/{}/iris_rf\".format(runs['run_id'][0])\n",
    "last_run = runs.sort_values(by='end_time', ascending=False)\n",
    "\n",
    "if last_run['metrics.accuracy'][0] > 0.7:\n",
    "    model_version = mlflow.register_model(model_uri, \"iris_rf_model\")\n",
    "\n",
    "\n",
    "# Load a model from MLflow\n",
    "model_uri = \"models:/iris_rf_model/{}\".format(model_version.version)\n",
    "model = mlflow.pyfunc.load_model(model_uri)\n",
    "model"
   ]
  },
  {
   "cell_type": "markdown",
   "id": "6a983ae2",
   "metadata": {},
   "source": [
    "#### Visualizing and Analyzing Experiments and Models with the MLflow UI"
   ]
  },
  {
   "cell_type": "code",
   "execution_count": 29,
   "id": "e36dbd0d",
   "metadata": {},
   "outputs": [
    {
     "name": "stdout",
     "output_type": "stream",
     "text": [
      "[2023-04-06 23:54:23 +0200] [13107] [INFO] Starting gunicorn 20.1.0\n",
      "[2023-04-06 23:54:23 +0200] [13107] [INFO] Listening at: http://127.0.0.1:8908 (13107)\n",
      "[2023-04-06 23:54:23 +0200] [13107] [INFO] Using worker: sync\n",
      "[2023-04-06 23:54:23 +0200] [13108] [INFO] Booting worker with pid: 13108\n",
      "[2023-04-06 23:54:23 +0200] [13109] [INFO] Booting worker with pid: 13109\n",
      "[2023-04-06 23:54:23 +0200] [13110] [INFO] Booting worker with pid: 13110\n",
      "[2023-04-06 23:54:23 +0200] [13111] [INFO] Booting worker with pid: 13111\n",
      "^C\n",
      "[2023-04-06 23:54:26 +0200] [13107] [INFO] Handling signal: int\n",
      "[2023-04-06 23:54:26 +0200] [13111] [INFO] Worker exiting (pid: 13111)\n",
      "[2023-04-06 23:54:26 +0200] [13110] [INFO] Worker exiting (pid: 13110)\n",
      "[2023-04-06 23:54:26 +0200] [13109] [INFO] Worker exiting (pid: 13109)\n",
      "[2023-04-06 23:54:26 +0200] [13108] [INFO] Worker exiting (pid: 13108)\n"
     ]
    }
   ],
   "source": [
    "!mlflow ui --backend-store-uri file:mlruns --port 8908"
   ]
  },
  {
   "cell_type": "code",
   "execution_count": null,
   "id": "05bc79c7",
   "metadata": {},
   "outputs": [],
   "source": []
  }
 ],
 "metadata": {
  "kernelspec": {
   "display_name": "Python 3 (ipykernel)",
   "language": "python",
   "name": "python3"
  },
  "language_info": {
   "codemirror_mode": {
    "name": "ipython",
    "version": 3
   },
   "file_extension": ".py",
   "mimetype": "text/x-python",
   "name": "python",
   "nbconvert_exporter": "python",
   "pygments_lexer": "ipython3",
   "version": "3.9.7"
  }
 },
 "nbformat": 4,
 "nbformat_minor": 5
}
